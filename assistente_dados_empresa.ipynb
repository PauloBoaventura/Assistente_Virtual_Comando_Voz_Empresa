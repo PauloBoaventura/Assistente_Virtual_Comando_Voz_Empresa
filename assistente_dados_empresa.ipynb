{
  "nbformat": 4,
  "nbformat_minor": 0,
  "metadata": {
    "colab": {
      "provenance": [],
      "collapsed_sections": [
        "K-FjNC1lTaHH",
        "KZkE_ZcjafMp",
        "4GeCpXsrSrpZ",
        "0jdV7JPR40oP",
        "V0kNGM3ZS4ts",
        "lRXUQqgWi7lD",
        "sFN-tc2HTEsh",
        "NV-mFD9k816z",
        "yHs2gb06TLoi",
        "zOzs0HseUg3m",
        "PzY2YQN8TU1p"
      ],
      "gpuType": "T4",
      "include_colab_link": true
    },
    "kernelspec": {
      "name": "python3",
      "display_name": "Python 3"
    },
    "language_info": {
      "name": "python"
    },
    "accelerator": "GPU"
  },
  "cells": [
    {
      "cell_type": "markdown",
      "metadata": {
        "id": "view-in-github",
        "colab_type": "text"
      },
      "source": [
        "<a href=\"https://colab.research.google.com/github/PauloBoaventura/Assistente_Virtual_Comando_Voz_Empresa/blob/main/assistente_dados_empresa.ipynb\" target=\"_parent\"><img src=\"https://colab.research.google.com/assets/colab-badge.svg\" alt=\"Open In Colab\"/></a>"
      ]
    },
    {
      "cell_type": "markdown",
      "source": [
        "## ⛺ Variáveis de ambiente"
      ],
      "metadata": {
        "id": "K-FjNC1lTaHH"
      }
    },
    {
      "cell_type": "code",
      "execution_count": null,
      "metadata": {
        "id": "VqQVXj_PabU8"
      },
      "outputs": [],
      "source": [
        "language = \"pt\""
      ]
    },
    {
      "cell_type": "markdown",
      "source": [
        "### 🎤 **Gravador de áudio**🦻"
      ],
      "metadata": {
        "id": "KZkE_ZcjafMp"
      }
    },
    {
      "cell_type": "code",
      "source": [
        "#Instalando bibliotecas\n",
        "!pip -q install pydub"
      ],
      "metadata": {
        "id": "z2gvvI1USfy3"
      },
      "execution_count": null,
      "outputs": []
    },
    {
      "cell_type": "markdown",
      "source": [
        "## ✨ Execute:"
      ],
      "metadata": {
        "id": "4GeCpXsrSrpZ"
      }
    },
    {
      "cell_type": "code",
      "source": [
        "# Ref: https://gist.github.com/korakot/c21c3476c024ad6d56d5f48b0bca92be\n",
        "# Importações\n",
        "from IPython.display import Audio, display, Javascript\n",
        "from google.colab import output\n",
        "from base64 import b64decode\n",
        "from io import BytesIO\n",
        "from pydub import AudioSegment\n",
        "\n",
        "#Código em JS para captar gravador no navegador\n",
        "RECORD = \"\"\"\n",
        "const sleep  = time => new Promise(resolve => setTimeout(resolve, time))\n",
        "const b2text = blob => new Promise(resolve => {\n",
        "  const reader = new FileReader()\n",
        "  reader.onloadend = e => resolve(e.srcElement.result)\n",
        "  reader.readAsDataURL(blob)\n",
        "})\n",
        "\n",
        "var record = time => new Promise(async resolve => {\n",
        "  stream = await navigator.mediaDevices.getUserMedia({ audio: true })\n",
        "  recorder = new MediaRecorder(stream)\n",
        "  chunks = []\n",
        "  recorder.ondataavailable = e => chunks.push(e.data)\n",
        "  recorder.start()\n",
        "  await sleep(time)\n",
        "  recorder.onstop = async ()=>{\n",
        "    blob = new Blob(chunks)\n",
        "    text = await b2text(blob)\n",
        "    resolve(text)\n",
        "  }\n",
        "  recorder.stop()\n",
        "})\n",
        "\"\"\"\n",
        "\n",
        "def record(sec=5):\n",
        "  #Executa o JS\n",
        "  display(Javascript(RECORD))\n",
        "  js_result = output.eval_js('record(%s)' % (sec*1000))\n",
        "  #Decodifica o audio em base 64\n",
        "  audio = b64decode(js_result.split(',')[1])\n",
        "  #Variável que contém o audio\n",
        "  file_name = \"prompt.wav\"\n",
        "  #abre o arquivo para escrever\n",
        "  with open(file_name, 'wb') as f:\n",
        "    f.write(audio)\n",
        "  return f'/content/{file_name}'\n",
        "\n",
        "print('Ouvindo...\\n')\n",
        "record_file = record()\n",
        "display(Audio(record_file, autoplay=False))"
      ],
      "metadata": {
        "id": "9fTqoJCAaeH9"
      },
      "execution_count": null,
      "outputs": []
    },
    {
      "cell_type": "markdown",
      "source": [
        "## 🗣 Transcrição de áudio com Whisper 🧠"
      ],
      "metadata": {
        "id": "0jdV7JPR40oP"
      }
    },
    {
      "cell_type": "code",
      "source": [
        "#Instala a biblioteca\n",
        "!pip install git+https://github.com/openai/whisper.git -q"
      ],
      "metadata": {
        "collapsed": true,
        "id": "nUy2CLez4zT0"
      },
      "execution_count": null,
      "outputs": []
    },
    {
      "cell_type": "markdown",
      "source": [
        "## ✨ Execute:"
      ],
      "metadata": {
        "id": "V0kNGM3ZS4ts"
      }
    },
    {
      "cell_type": "code",
      "source": [
        "import whisper\n",
        "# Biblioteca de otimização de resposta\n",
        "import torch\n",
        "\n",
        "# Modelos tiny:1GB base:1GB small:2GB medium:5GB large:10GB\n",
        "model = whisper.load_model(\"small\", device=\"cuda\" if torch.cuda.is_available() else \"cpu\")\n",
        "\n",
        "# Transcrição do áudio\n",
        "result = model.transcribe(record_file, fp16=False, language=language)\n",
        "transcription = result[\"text\"]\n",
        "print(transcription)\n",
        "\n",
        "# Incrementando a transcrição com o prompt para que o chat responda\n",
        "#formatted_transcription = f\"Corrija os erros do texto a seguir respondendo apenas o output(sem a palavra output e sem o input). [Input: ual a ora Output: qual a hora?] Você perguntou{transcription}?\"\n",
        "\n",
        "# Exibindo o resultado formatado\n",
        "#print(formatted_transcription)\n"
      ],
      "metadata": {
        "collapsed": true,
        "id": "Y9JlVLpj6YRH"
      },
      "execution_count": null,
      "outputs": []
    },
    {
      "cell_type": "markdown",
      "source": [
        "## 🎲 Criando o DataFrame 🎲"
      ],
      "metadata": {
        "id": "lRXUQqgWi7lD"
      }
    },
    {
      "cell_type": "code",
      "source": [
        "import pandas as pd\n",
        "from transformers import pipeline\n",
        "\n",
        "# Criando um DataFrame com perguntas e respostas relacionadas aos temas fornecidos\n",
        "data = {\n",
        "    \"Pergunta\": [\n",
        "        \"Qual é o forecast de vendas para o próximo trimestre?\",\n",
        "        \"Quantos computadores estão previstos para produção este mês?\",\n",
        "        \"Qual foi o faturamento total no último trimestre?\",\n",
        "        \"Qual o valor do inventário atual de matéria-prima?\",\n",
        "        \"Quantas unidades foram vendidas no mês passado?\",\n",
        "        \"Qual é o forecast de demanda para o próximo ano?\",\n",
        "        \"Quais são os principais fatores que afetam o forecast de produção?\",\n",
        "        \"Quantos computadores foram produzidos na última ordem de produção?\",\n",
        "        \"Como foi o crescimento do faturamento em comparação ao ano anterior?\",\n",
        "        \"Qual o nível mínimo de inventário de matéria-prima necessário para produção contínua?\",\n",
        "        \"Qual foi a quantidade de computadores vendidos no último trimestre?\",\n",
        "        \"Como o forecast influencia a produção de computadores?\",\n",
        "        \"Qual a diferença entre o forecast inicial e a produção real?\",\n",
        "        \"Quais são as tendências de faturamento para o próximo semestre?\",\n",
        "        \"Qual o nível de inventário de matéria-prima projetado para o próximo mês?\",\n",
        "        \"Qual o forecast de produção para o próximo mês?\",\n",
        "        \"Quantas ordens de produção foram emitidas este ano?\",\n",
        "        \"Como o inventário de matéria-prima afeta a produção?\",\n",
        "        \"O que acontece se o forecast for subestimado?\",\n",
        "        \"Qual a diferença entre forecast e pedido real de produção?\",\n",
        "        \"Qual foi o maior faturamento mensal deste ano?\",\n",
        "        \"Como o forecast de vendas influencia o planejamento de produção?\",\n",
        "        \"Qual o nível de inventário de matéria-prima em excesso aceitável?\",\n",
        "        \"Como o faturamento está relacionado à quantidade vendida?\",\n",
        "        \"O forecast foi revisado nos últimos três meses?\",\n",
        "        \"Qual a previsão de inventário de matéria-prima para o próximo trimestre?\",\n",
        "        \"Qual foi o impacto de uma baixa no inventário de matéria-prima na produção?\",\n",
        "        \"Quantos computadores foram vendidos no ano passado?\",\n",
        "        \"Como é feita a previsão de demanda para o forecast?\",\n",
        "        \"O faturamento deste trimestre superou o forecast?\",\n",
        "        \"Qual é o forecast de vendas para o próximo trimestre?\",\n",
        "        \"Quantos computadores estão previstos para produção este mês?\",\n",
        "        \"Qual foi o faturamento total no último trimestre?\",\n",
        "        \"Qual o valor do inventário atual de matéria-prima?\",\n",
        "        \"Quantas unidades de computadores foram vendidas no mês passado?\",\n",
        "        \"Qual é o forecast de demanda para o próximo ano?\",\n",
        "        \"Quais são os principais fatores que afetam o forecast de produção?\",\n",
        "        \"Quantos computadores foram produzidos na última ordem de produção?\",\n",
        "        \"Como foi o crescimento do faturamento em comparação ao ano anterior?\",\n",
        "        \"Qual o nível mínimo de inventário de matéria-prima necessário para produção contínua?\",\n",
        "        \"Qual foi a quantidade de computadores vendidos no último trimestre?\",\n",
        "        \"Como o forecast influencia a produção de computadores?\",\n",
        "        \"Qual a diferença entre o forecast inicial e a produção real?\",\n",
        "        \"Quais são as tendências de faturamento para o próximo semestre?\",\n",
        "        \"Qual o nível de inventário de matéria-prima projetado para o próximo mês?\",\n",
        "        \"Qual o forecast de produção para o próximo mês?\",\n",
        "        \"Quantas ordens de produção foram emitidas este ano?\",\n",
        "        \"Como o inventário de matéria-prima afeta a produção?\",\n",
        "        \"O que acontece se o forecast for subestimado?\",\n",
        "        \"Qual a diferença entre forecast e pedido real de produção?\",\n",
        "        \"Qual foi o maior faturamento mensal deste ano?\",\n",
        "        \"Como o forecast de vendas influencia o planejamento de produção?\",\n",
        "        \"Qual o nível de inventário de matéria-prima em excesso aceitável?\",\n",
        "        \"Como o faturamento está relacionado à quantidade vendida?\",\n",
        "        \"O forecast foi revisado nos últimos três meses?\",\n",
        "        \"Qual a previsão de inventário de matéria-prima para o próximo trimestre?\",\n",
        "        \"Qual foi o impacto de uma baixa no inventário de matéria-prima na produção?\",\n",
        "        \"Quantos computadores foram vendidos no ano passado?\",\n",
        "        \"Como é feita a previsão de demanda para o forecast?\",\n",
        "        \"O faturamento deste trimestre superou o forecast?\",\n",
        "        \"Qual foi o forecast de vendas do mês passado?\",\n",
        "        \"Quantas unidades foram produzidas no mês passado?\",\n",
        "        \"Qual foi o desempenho das vendas no mês passado comparado ao forecast?\",\n",
        "        \"Quantas ordens de produção foram concluídas no mês passado?\",\n",
        "        \"Como o inventário de matéria-prima foi utilizado no mês passado?\",\n",
        "        \"Qual é a previsão de crescimento de vendas para o próximo trimestre?\",\n",
        "        \"Como a produção planejada para o próximo mês vai se alinhar ao forecast?\",\n",
        "        \"Qual o impacto previsto de uma alta na demanda no próximo trimestre?\",\n",
        "        \"O forecast de produção do próximo mês já foi ajustado?\",\n",
        "        \"Qual é a expectativa de crescimento para o faturamento no próximo ano?\",\n",
        "        \"Como o desempenho de vendas do mês passado influenciou a revisão do forecast?\",\n",
        "        \"O inventário de matéria-prima está adequado para o forecast do próximo trimestre?\"\n",
        "    ],\n",
        "    \"Resposta\": [\n",
        "        \"O forecast de vendas para o próximo trimestre é de 5000 unidades.\",\n",
        "        \"Estão previstos 3000 computadores para produção este mês.\",\n",
        "        \"O faturamento total no último trimestre foi de R$ 5 milhões.\",\n",
        "        \"O inventário atual de matéria-prima está avaliado em R$ 2 milhões.\",\n",
        "        \"Foram vendidas 2500 unidades no mês passado.\",\n",
        "        \"O forecast de demanda para o próximo ano é de 20000 unidades.\",\n",
        "        \"Os principais fatores incluem demanda do mercado, tendências econômicas e capacidade de produção.\",\n",
        "        \"Foram produzidos 3200 computadores na última ordem de produção.\",\n",
        "        \"O crescimento do faturamento foi de 15% em comparação ao ano anterior.\",\n",
        "        \"O nível mínimo de inventário é de 500 toneladas de matéria-prima.\",\n",
        "        \"No último trimestre, foram vendidos 2700 computadores.\",\n",
        "        \"O forecast determina quantos computadores precisam ser produzidos para atender à demanda.\",\n",
        "        \"A produção real foi 10% maior que o forecast inicial.\",\n",
        "        \"As tendências de faturamento mostram um crescimento de 8% no próximo semestre.\",\n",
        "        \"O inventário projetado para o próximo mês é de 1800 toneladas de matéria-prima.\",\n",
        "        \"O forecast de produção para o próximo mês é de 4000 computadores.\",\n",
        "        \"Foram emitidas 25 ordens de produção este ano.\",\n",
        "        \"O inventário de matéria-prima garante a continuidade da produção e evita paradas inesperadas.\",\n",
        "        \"Se o forecast for subestimado, a demanda pode não ser atendida, causando perda de vendas e clientes insatisfeitos.\",\n",
        "        \"O forecast é uma estimativa da demanda futura, enquanto o pedido real reflete a produção já confirmada.\",\n",
        "        \"O maior faturamento mensal deste ano foi de R$ 6 milhões, registrado em julho.\",\n",
        "        \"O forecast de vendas orienta o planejamento da produção para garantir que a oferta atenda à demanda esperada.\",\n",
        "        \"Um excesso de até 10% no inventário de matéria-prima é considerado aceitável para evitar rupturas na produção.\",\n",
        "        \"O faturamento é diretamente proporcional à quantidade vendida, sendo impactado também pelo preço de venda por unidade.\",\n",
        "        \"Sim, o forecast foi revisado duas vezes nos últimos três meses devido a mudanças na demanda do mercado.\",\n",
        "        \"A previsão de inventário de matéria-prima para o próximo trimestre é de 2500 toneladas.\",\n",
        "        \"A baixa no inventário de matéria-prima resultou em uma redução de 15% na produção no último mês.\",\n",
        "        \"No ano passado, foram vendidos 18.000 computadores.\",\n",
        "        \"A previsão de demanda é feita com base em dados históricos de vendas, análise de mercado e tendências econômicas.\",\n",
        "        \"Sim, o faturamento deste trimestre superou o forecast em 12%.\",\n",
        "        \"O forecast de vendas para o próximo trimestre é de 5000 unidades.\",\n",
        "        \"Estão previstos 3000 computadores para produção este mês.\",\n",
        "        \"O faturamento total no último trimestre foi de R$ 5 milhões.\",\n",
        "        \"O inventário atual de matéria-prima está avaliado em R$ 2 milhões.\",\n",
        "        \"Foram vendidas 2500 unidades de computadores no mês passado.\",\n",
        "        \"O forecast de demanda para o próximo ano é de 20000 unidades.\",\n",
        "        \"Os principais fatores incluem demanda do mercado, tendências econômicas e capacidade de produção.\",\n",
        "        \"Foram produzidos 3200 computadores na última ordem de produção.\",\n",
        "        \"O crescimento do faturamento foi de 15% em comparação ao ano anterior.\",\n",
        "        \"O nível mínimo de inventário é de 500 toneladas de matéria-prima.\",\n",
        "        \"No último trimestre, foram vendidos 2700 computadores.\",\n",
        "        \"O forecast determina quantos computadores precisam ser produzidos para atender à demanda.\",\n",
        "        \"A produção real foi 10% maior que o forecast inicial.\",\n",
        "        \"As tendências de faturamento mostram um crescimento de 8% no próximo semestre.\",\n",
        "        \"O inventário projetado para o próximo mês é de 1800 toneladas de matéria-prima.\",\n",
        "        \"O forecast de produção para o próximo mês é de 4000 computadores.\",\n",
        "        \"Foram emitidas 25 ordens de produção este ano.\",\n",
        "        \"O inventário de matéria-prima garante a continuidade da produção e evita paradas inesperadas.\",\n",
        "        \"Se o forecast for subestimado, a demanda pode não ser atendida, causando perda de vendas e clientes insatisfeitos.\",\n",
        "        \"O forecast é uma estimativa da demanda futura, enquanto o pedido real reflete a produção já confirmada.\",\n",
        "        \"O maior faturamento mensal deste ano foi de R$ 6 milhões, registrado em julho.\",\n",
        "        \"O forecast de vendas orienta o planejamento da produção para garantir que a oferta atenda à demanda esperada.\",\n",
        "        \"Um excesso de até 10% no inventário de matéria-prima é considerado aceitável para evitar rupturas na produção.\",\n",
        "        \"O faturamento é diretamente proporcional à quantidade vendida, sendo impactado também pelo preço de venda por unidade.\",\n",
        "        \"Sim, o forecast foi revisado duas vezes nos últimos três meses devido a mudanças na demanda do mercado.\",\n",
        "        \"A previsão de inventário de matéria-prima para o próximo trimestre é de 2500 toneladas.\",\n",
        "        \"A baixa no inventário de matéria-prima resultou em uma redução de 15% na produção no último mês.\",\n",
        "        \"No ano passado, foram vendidos 18.000 computadores.\",\n",
        "        \"A previsão de demanda é feita com base em dados históricos de vendas, análise de mercado e tendências econômicas.\",\n",
        "        \"Sim, o faturamento deste trimestre superou o forecast em 12%.\",\n",
        "        \"O forecast de vendas do mês passado foi de 2400 unidades.\",\n",
        "        \"Foram produzidas 2600 unidades no mês passado.\",\n",
        "        \"As vendas do mês passado foram 5% superiores ao forecast.\",\n",
        "        \"Foram concluídas 8 ordens de produção no mês passado.\",\n",
        "        \"O inventário de matéria-prima foi utilizado em 95%, garantindo a produção contínua no mês passado.\",\n",
        "        \"A previsão de crescimento de vendas para o próximo trimestre é de 12%.\",\n",
        "        \"A produção planejada para o próximo mês está alinhada ao forecast com uma margem de 3% de ajuste.\",\n",
        "        \"Espera-se um impacto positivo de 10% devido à alta demanda no próximo trimestre.\",\n",
        "        \"Sim, o forecast de produção do próximo mês foi ajustado para atender à demanda crescente.\",\n",
        "        \"A expectativa de crescimento para o faturamento no próximo ano é de 20%.\",\n",
        "        \"O desempenho de vendas do mês passado, que superou o forecast em 7%, influenciou a revisão do forecast futuro.\",\n",
        "        \"Sim, o inventário de matéria-prima está adequado para atender ao forecast do próximo trimestre.\"\n",
        "    ]\n",
        "}\n",
        "\n",
        "# Criando o DataFrame\n",
        "df = pd.DataFrame(data)\n"
      ],
      "metadata": {
        "id": "-2oJCDWRdlmk"
      },
      "execution_count": null,
      "outputs": []
    },
    {
      "cell_type": "code",
      "source": [
        "!pip install sentence-transformers\n",
        "!pip install scikit-learn\n",
        "!pip install dateparser\n",
        "!pip install numpy"
      ],
      "metadata": {
        "collapsed": true,
        "id": "yIOrxCxjLoOA"
      },
      "execution_count": null,
      "outputs": []
    },
    {
      "cell_type": "markdown",
      "source": [
        "## ✨ Execute"
      ],
      "metadata": {
        "id": "sFN-tc2HTEsh"
      }
    },
    {
      "cell_type": "markdown",
      "source": [
        "**SentenceTransformer:** Usado para gerar embeddings de sentenças, que são representações vetoriais das perguntas.\n",
        "\n",
        "**cosine_similarity:** Calcula a similaridade de cosseno entre dois vetores.\n",
        "\n",
        "**numpy:** Fornece funções e objetos úteis para manipulações numéricas e matriciais.\n",
        "\n",
        "**dateparser:** Interpreta e converte expressões de tempo em datas.\n",
        "\n",
        "**datetime:** Manipula e acessa informações sobre data e hora."
      ],
      "metadata": {
        "id": "9subWOcIRUCq"
      }
    },
    {
      "cell_type": "code",
      "source": [
        "from sentence_transformers import SentenceTransformer\n",
        "from sklearn.metrics.pairwise import cosine_similarity\n",
        "import numpy as np\n",
        "import dateparser\n",
        "from datetime import datetime\n",
        "\n",
        "# Função para ajustar expressões temporais na pergunta\n",
        "def ajustar_temporalidade(pergunta):\n",
        "    agora = datetime.now()\n",
        "\n",
        "    # Ajusta \"mês passado\" e \"último mês\"\n",
        "    pergunta = pergunta.replace(\"mês passado\", dateparser.parse(\"mês passado\").strftime(\"%B de %Y\"))\n",
        "    pergunta = pergunta.replace(\"último mês\", dateparser.parse(\"mês passado\").strftime(\"%B de %Y\"))\n",
        "\n",
        "    # Ajusta \"ano passado\" e \"último ano\"\n",
        "    pergunta = pergunta.replace(\"ano passado\", dateparser.parse(\"ano passado\").strftime(\"%Y\"))\n",
        "    pergunta = pergunta.replace(\"último ano\", dateparser.parse(\"ano passado\").strftime(\"%Y\"))\n",
        "\n",
        "    # Ajusta \"último semestre\"\n",
        "    semestre_atual = (agora.month - 1) // 6 + 1\n",
        "    ultimo_semestre = semestre_atual - 1 if semestre_atual > 1 else 2\n",
        "    ano_semestre = agora.year if semestre_atual > 1 else agora.year - 1\n",
        "    semestre_str = f\"{ano_semestre} {'Primeiro' if ultimo_semestre == 1 else 'Segundo'} Semestre\"\n",
        "    pergunta = pergunta.replace(\"último semestre\", semestre_str)\n",
        "\n",
        "    return pergunta\n",
        "\n",
        "# Função para encontrar a resposta correta com base na pergunta usando sentence-transformers\n",
        "def encontrar_resposta(transcription, dataframe, model_embeddings):\n",
        "    # Ajusta a pergunta para lidar com expressões temporais\n",
        "    transcription = ajustar_temporalidade(transcription)\n",
        "\n",
        "    # Obtém os embeddings da pergunta do usuário e move para CPU\n",
        "    pergunta_embedding = model_embeddings.encode(transcription, convert_to_tensor=True).cpu()\n",
        "\n",
        "    # Inicializa a lista de similaridades\n",
        "    similaridades = []\n",
        "\n",
        "    # Calcula a similaridade de cosseno entre a pergunta do usuário e as perguntas do DataFrame\n",
        "    for i, row in dataframe.iterrows():\n",
        "        # Ajusta as perguntas do DataFrame para lidar com expressões temporais\n",
        "        pergunta_df = ajustar_temporalidade(row['Pergunta'])\n",
        "\n",
        "        # Obtém os embeddings das perguntas do DataFrame e move para CPU\n",
        "        pergunta_df_embedding = model_embeddings.encode(pergunta_df, convert_to_tensor=True).cpu()\n",
        "        similaridade = cosine_similarity([pergunta_embedding], [pergunta_df_embedding])\n",
        "        similaridades.append(similaridade[0][0])\n",
        "\n",
        "    # Identificar a pergunta mais similar\n",
        "    melhor_indice = np.argmax(similaridades)\n",
        "    melhor_pergunta = dataframe.iloc[melhor_indice]['Pergunta']\n",
        "    melhor_resposta = dataframe.iloc[melhor_indice]['Resposta']\n",
        "\n",
        "    return melhor_pergunta, melhor_resposta\n",
        "\n",
        "# Inicializa o modelo de embeddings do sentence-transformers\n",
        "model_embeddings = SentenceTransformer('paraphrase-MiniLM-L6-v2')\n",
        "\n",
        "# Encontrando a resposta mais relevante\n",
        "pergunta_encontrada, resposta_encontrada = encontrar_resposta(transcription, df, model_embeddings)\n",
        "\n",
        "print(f\"Pergunta encontrada: {pergunta_encontrada}\")\n",
        "print(f\"Resposta: {resposta_encontrada}\")\n"
      ],
      "metadata": {
        "id": "Pzs4OsWAjb9n"
      },
      "execution_count": null,
      "outputs": []
    },
    {
      "cell_type": "markdown",
      "source": [
        "## Integração com API OpenAI 💭"
      ],
      "metadata": {
        "id": "NV-mFD9k816z"
      }
    },
    {
      "cell_type": "code",
      "source": [
        "!pip install openai -q\n",
        "!pip install python-dotenv"
      ],
      "metadata": {
        "collapsed": true,
        "id": "fDId_TxH9Imc"
      },
      "execution_count": null,
      "outputs": []
    },
    {
      "cell_type": "markdown",
      "source": [
        "## ✨ Execute"
      ],
      "metadata": {
        "id": "yHs2gb06TLoi"
      }
    },
    {
      "cell_type": "code",
      "source": [
        "from openai import OpenAI\n",
        "\n",
        "#API\n",
        "client = OpenAI(api_key=\"Sua_API_KEY\")\n",
        "\n",
        "#Interação com o ChatGPT\n",
        "chat_completion = client.chat.completions.create(\n",
        "messages=[\n",
        "    {\"role\": \"user\",\n",
        "     \"content\": \"melhore a seguinte resposta: \" + resposta_encontrada }\n",
        "    ],\n",
        "    #modelo recomendado gpt-3.5-turbo\n",
        "    model=\"gpt-3.5-turbo\",\n",
        "  )\n",
        "\n",
        "#Obtém a resposta do chatGPT (array de escolhas, normalmente a primeira resposta é a melhor, por isso índice 0)\n",
        "chatgpt_response = chat_completion.choices[0].message.content\n",
        "print(chatgpt_response)"
      ],
      "metadata": {
        "id": "-d2WsZ-X9Unh"
      },
      "execution_count": null,
      "outputs": []
    },
    {
      "cell_type": "markdown",
      "source": [
        "## 🗣🔊 Sintetizando a resposta do chatGPT com voz 😮💬"
      ],
      "metadata": {
        "id": "zOzs0HseUg3m"
      }
    },
    {
      "cell_type": "code",
      "source": [
        "!pip install gTTS"
      ],
      "metadata": {
        "collapsed": true,
        "id": "ip4uclZcVjeZ"
      },
      "execution_count": null,
      "outputs": []
    },
    {
      "cell_type": "markdown",
      "source": [
        "## ✨ Execute"
      ],
      "metadata": {
        "id": "PzY2YQN8TU1p"
      }
    },
    {
      "cell_type": "code",
      "source": [
        "#Biblioteca google\n",
        "from gtts import gTTS\n",
        "\n",
        "#Define o que ele vai ler\n",
        "gtts_object = gTTS(text=chatgpt_response, lang=language, slow=False)\n",
        "response_audio = \"response.wav\"\n",
        "\n",
        "#Salva o áudio\n",
        "gtts_object.save(\"response.wav\")\n",
        "display(Audio(\"response.wav\", autoplay=True))"
      ],
      "metadata": {
        "id": "ujsIA1SzVxFe"
      },
      "execution_count": null,
      "outputs": []
    }
  ]
}